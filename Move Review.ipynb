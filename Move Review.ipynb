{
 "cells": [
  {
   "cell_type": "code",
   "execution_count": 59,
   "metadata": {},
   "outputs": [],
   "source": [
    "import pandas as pd\n",
    "import numpy as np\n",
    "import gensim\n",
    "import matplotlib.pyplot as plt\n",
    "from tqdm import tqdm\n",
    "import os\n",
    "os.environ[\"CUDA_VISIBLE_DEVICES\"]=\"-1\"\n",
    "tqdm.pandas(desc=\"progress-bar\")\n",
    "\n",
    "data = pd.read_csv(\"labeledTrainData.tsv\", delimiter = '\\t', quoting=3)"
   ]
  },
  {
   "cell_type": "code",
   "execution_count": 60,
   "metadata": {},
   "outputs": [
    {
     "data": {
      "text/plain": [
       "(25000, 3)"
      ]
     },
     "execution_count": 60,
     "metadata": {},
     "output_type": "execute_result"
    }
   ],
   "source": [
    "data.shape"
   ]
  },
  {
   "cell_type": "code",
   "execution_count": 61,
   "metadata": {},
   "outputs": [
    {
     "data": {
      "text/plain": [
       "array(['id', 'sentiment', 'review'], dtype=object)"
      ]
     },
     "execution_count": 61,
     "metadata": {},
     "output_type": "execute_result"
    }
   ],
   "source": [
    "data.columns.values"
   ]
  },
  {
   "cell_type": "code",
   "execution_count": 71,
   "metadata": {},
   "outputs": [
    {
     "data": {
      "text/plain": [
       "'\"\\\\\"The Classic War of the Worlds\\\\\" by Timothy Hines is a very entertaining film that obviously goes to great effort and lengths to faithfully recreate H. G. Wells\\' classic book. Mr. Hines succeeds in doing so. I, and those who watched his film with me, appreciated the fact that it was not the standard, predictable Hollywood fare that comes out every year, e.g. the Spielberg version with Tom Cruise that had only the slightest resemblance to the book. Obviously, everyone looks for different things in a movie. Those who envision themselves as amateur \\\\\"critics\\\\\" look only to criticize everything they can. Others rate a movie on more important bases,like being entertained, which is why most people never agree with the \\\\\"critics\\\\\". We enjoyed the effort Mr. Hines put into being faithful to H.G. Wells\\' classic novel, and we found it to be very entertaining. This made it easy to overlook what the \\\\\"critics\\\\\" perceive to be its shortcomings.\"'"
      ]
     },
     "execution_count": 71,
     "metadata": {},
     "output_type": "execute_result"
    }
   ],
   "source": [
    "data[\"review\"][1]"
   ]
  },
  {
   "cell_type": "code",
   "execution_count": 53,
   "metadata": {},
   "outputs": [],
   "source": [
    "# Tokenizing the data\n",
    "\n",
    "tokens = []\n",
    "for i in range(0,len(data)):\n",
    "    temp = []\n",
    "    temp.append(gensim.utils.simple_preprocess(data[\"review\"][i]))\n",
    "    temp.append(data[\"sentiment\"][i])\n",
    "    tokens.append(temp)"
   ]
  },
  {
   "cell_type": "code",
   "execution_count": 54,
   "metadata": {},
   "outputs": [],
   "source": [
    "# Test/train split\n",
    "\n",
    "from sklearn.model_selection import train_test_split\n",
    "train, test = train_test_split(tokens, test_size=0.2)"
   ]
  },
  {
   "cell_type": "code",
   "execution_count": 55,
   "metadata": {},
   "outputs": [
    {
     "name": "stderr",
     "output_type": "stream",
     "text": [
      "100%|███████████████████████████████████████████████████████████████████████| 25000/25000 [00:00<00:00, 2278670.93it/s]\n"
     ]
    },
    {
     "data": {
      "text/plain": [
       "(41713178, 56531940)"
      ]
     },
     "execution_count": 55,
     "metadata": {},
     "output_type": "execute_result"
    }
   ],
   "source": [
    "# Training W2V space\n",
    "\n",
    "size = 60\n",
    "model = gensim.models.Word2Vec ([row[0] for row in tokens], size=size, window=7, min_count=10, workers=10)\n",
    "model.train([row[0] for row in tqdm(tokens)],total_examples=len([row[0] for row in tokens]),epochs=10)"
   ]
  },
  {
   "cell_type": "code",
   "execution_count": 56,
   "metadata": {},
   "outputs": [
    {
     "name": "stdout",
     "output_type": "stream",
     "text": [
      "Min length:  9\n",
      "Max length:  2380\n"
     ]
    }
   ],
   "source": [
    "# In order to use a CNN we'll need uniform review length. Let's see if there is a large gap\n",
    "# between the longest and the shortest review.\n",
    "\n",
    "# Min review length\n",
    "l = 10000\n",
    "for i in range(0,len(tokens)):\n",
    "    if len(tokens[i][0]) < l:\n",
    "        l = len(tokens[i][0])\n",
    "\n",
    "print(\"Min length: \",l)\n",
    "\n",
    "l = 0\n",
    "for i in range(0,len(tokens)):\n",
    "    if len(tokens[i][0]) > l:\n",
    "        l = len(tokens[i][0])\n",
    "\n",
    "print(\"Max length: \",l)"
   ]
  },
  {
   "cell_type": "code",
   "execution_count": 66,
   "metadata": {},
   "outputs": [
    {
     "name": "stdout",
     "output_type": "stream",
     "text": [
      "Mean:  226.37255\n"
     ]
    },
    {
     "data": {
      "image/png": "[encoded data removed]",
      "text/plain": [
       "<matplotlib.figure.Figure at 0x2248883ceb8>"
      ]
     },
     "metadata": {},
     "output_type": "display_data"
    }
   ],
   "source": [
    "# That's a problem. Not really an option to cut to the shortest or PAD to the longest.\n",
    "# Let's inspect the distribution of review length:\n",
    "\n",
    "dist = []\n",
    "for leng in train:\n",
    "    dist.append(len(leng[0]))\n",
    "\n",
    "mean = sum(dist) / len(dist)\n",
    "print(\"Mean: \",mean)\n",
    "plt.hist(dist,[0,100,200,300,400,500,600,700])\n",
    "plt.xlabel(\"Review length (words)\")\n",
    "plt.ylabel(\"Frequency\")\n",
    "plt.show()"
   ]
  },
  {
   "cell_type": "code",
   "execution_count": 73,
   "metadata": {},
   "outputs": [],
   "source": [
    "# Most of the data lies within the 100-400 words area. Let's choose a word count close \n",
    "# to the mean. We'll do this by cutting down reviews greater than, and \"pad-ing\" up those that\n",
    "# are less\n",
    "length = 300\n",
    "for i in range(0,len(train)):\n",
    "    if len(train[i][0]) < length:\n",
    "        for j in range(0,length-len(train[i][0])):\n",
    "            train[i][0].append(\"PAD\")\n",
    "    \n",
    "    if len(train[i][0]) > length:\n",
    "        train[i][0] = train[i][0][0:length]\n",
    "        \n",
    "for i in range(0,len(test)):\n",
    "    if len(test[i][0]) < length:\n",
    "        for j in range(0,length-len(test[i][0])):\n",
    "            test[i][0].append(\"PAD\")\n",
    "    \n",
    "    if len(test[i][0]) > length:\n",
    "        test[i][0] = test[i][0][0:length]"
   ]
  },
  {
   "cell_type": "code",
   "execution_count": 74,
   "metadata": {},
   "outputs": [
    {
     "name": "stdout",
     "output_type": "stream",
     "text": [
      "Mean:  300.0\n"
     ]
    },
    {
     "data": {
      "image/png": "[encoded data removed]",
      "text/plain": [
       "<matplotlib.figure.Figure at 0x224a9366358>"
      ]
     },
     "metadata": {},
     "output_type": "display_data"
    }
   ],
   "source": [
    "# Lets take a look at the distribution again\n",
    "\n",
    "dist = []\n",
    "for leng in train:\n",
    "    dist.append(len(leng[0]))\n",
    "\n",
    "mean = sum(dist) / len(dist)\n",
    "print(\"Mean: \",mean)\n",
    "plt.hist(dist,[0,100,200,300,400,500,600,700])\n",
    "plt.xlabel(\"Review length (words)\")\n",
    "plt.ylabel(\"Frequency\")\n",
    "plt.show()"
   ]
  },
  {
   "cell_type": "code",
   "execution_count": 41,
   "metadata": {},
   "outputs": [],
   "source": [
    "# Creating vectors of word representations for our reviews\n",
    "trainVec = []\n",
    "testVec = []\n",
    "for i in range(0,len(train)):\n",
    "    temp = []\n",
    "    for j in range(0,len(train[i][0])):\n",
    "        try:\n",
    "            temp.append(model.wv[train[i][0][j]])\n",
    "        except:\n",
    "            temp.append([0]*size)\n",
    "    trainVec.append(temp)\n",
    "\n",
    "for i in range(0,len(test)):\n",
    "    temp = []\n",
    "    for j in range(0,len(test[i][0])):\n",
    "        try:\n",
    "            temp.append(model.wv[test[i][0][j]])\n",
    "        except:\n",
    "            temp.append([0]*size)\n",
    "    testVec.append(temp)\n",
    "    \n",
    "trainVec = np.array(trainVec)\n",
    "testVec = np.array(testVec)"
   ]
  },
  {
   "cell_type": "code",
   "execution_count": 42,
   "metadata": {},
   "outputs": [],
   "source": [
    "# Creating the label vectors\n",
    "\n",
    "trainLabel = []\n",
    "testLabel = []\n",
    "\n",
    "for i in range(0,len(train)):\n",
    "    trainLabel.append(train[i][1])\n",
    "    \n",
    "for i in range(0,len(test)):\n",
    "    testLabel.append(test[i][1])\n",
    "    \n",
    "trainLabel = np.array(trainLabel)\n",
    "testLabel = np.array(testLabel)"
   ]
  },
  {
   "cell_type": "code",
   "execution_count": 43,
   "metadata": {},
   "outputs": [],
   "source": [
    "from keras.models import Sequential\n",
    "from keras.layers import Dense, Activation, MaxPooling2D\n",
    "from keras.layers import Convolution2D, Flatten, Dropout\n",
    "from keras.layers.embeddings import Embedding\n",
    "from keras.preprocessing import sequence\n",
    "from keras.callbacks import TensorBoard"
   ]
  },
  {
   "cell_type": "code",
   "execution_count": 44,
   "metadata": {},
   "outputs": [
    {
     "data": {
      "text/plain": [
       "(20000, 300, 60)"
      ]
     },
     "execution_count": 44,
     "metadata": {},
     "output_type": "execute_result"
    }
   ],
   "source": [
    "trainVec.shape"
   ]
  },
  {
   "cell_type": "code",
   "execution_count": 45,
   "metadata": {},
   "outputs": [],
   "source": [
    "# Reshape input arrays in order to be compattible with Keras' API\n",
    "\n",
    "trainVec = trainVec.reshape((20000,length,size,1))\n",
    "testVec = testVec.reshape((5000,length,size,1))"
   ]
  },
  {
   "cell_type": "code",
   "execution_count": 46,
   "metadata": {},
   "outputs": [
    {
     "name": "stdout",
     "output_type": "stream",
     "text": [
      "_________________________________________________________________\n",
      "Layer (type)                 Output Shape              Param #   \n",
      "=================================================================\n",
      "conv2d_1 (Conv2D)            (None, 297, 57, 64)       1088      \n",
      "_________________________________________________________________\n",
      "conv2d_2 (Conv2D)            (None, 297, 57, 32)       18464     \n",
      "_________________________________________________________________\n",
      "activation_1 (Activation)    (None, 297, 57, 32)       0         \n",
      "_________________________________________________________________\n",
      "conv2d_3 (Conv2D)            (None, 297, 57, 16)       2064      \n",
      "_________________________________________________________________\n",
      "activation_2 (Activation)    (None, 297, 57, 16)       0         \n",
      "_________________________________________________________________\n",
      "conv2d_4 (Conv2D)            (None, 297, 57, 8)        520       \n",
      "_________________________________________________________________\n",
      "activation_3 (Activation)    (None, 297, 57, 8)        0         \n",
      "_________________________________________________________________\n",
      "max_pooling2d_1 (MaxPooling2 (None, 99, 19, 8)         0         \n",
      "_________________________________________________________________\n",
      "flatten_1 (Flatten)          (None, 15048)             0         \n",
      "_________________________________________________________________\n",
      "dropout_1 (Dropout)          (None, 15048)             0         \n",
      "_________________________________________________________________\n",
      "dense_1 (Dense)              (None, 64)                963136    \n",
      "_________________________________________________________________\n",
      "dropout_2 (Dropout)          (None, 64)                0         \n",
      "_________________________________________________________________\n",
      "dense_2 (Dense)              (None, 1)                 65        \n",
      "=================================================================\n",
      "Total params: 985,337\n",
      "Trainable params: 985,337\n",
      "Non-trainable params: 0\n",
      "_________________________________________________________________\n"
     ]
    }
   ],
   "source": [
    "net = Sequential()\n",
    "net.add(Convolution2D(64, 4,input_shape=(length,size,1), data_format='channels_last'))\n",
    "# Convolutional model (3x conv, flatten, 2x dense)\n",
    "net.add(Convolution2D(32,3, padding='same'))\n",
    "net.add(Activation('relu'))\n",
    "net.add(Convolution2D(16,2, padding='same'))\n",
    "net.add(Activation('relu'))\n",
    "net.add(Convolution2D(8,2, padding='same'))\n",
    "net.add(Activation('relu'))\n",
    "net.add(MaxPooling2D(pool_size=(3, 3)))\n",
    "\n",
    "net.add(Flatten())\n",
    "net.add(Dropout(0.2))\n",
    "net.add(Dense(64,activation='sigmoid'))\n",
    "net.add(Dropout(0.2))\n",
    "net.add(Dense(1,activation='sigmoid'))\n",
    "net.compile(loss='binary_crossentropy', optimizer='adam', metrics=['accuracy'])\n",
    "\n",
    "tensorBoardCallback = TensorBoard(log_dir='./logs', write_graph=True)\n",
    "net.summary()"
   ]
  },
  {
   "cell_type": "code",
   "execution_count": 47,
   "metadata": {},
   "outputs": [
    {
     "name": "stdout",
     "output_type": "stream",
     "text": [
      "Training model...\n",
      "Train on 20000 samples, validate on 5000 samples\n",
      "Epoch 1/3\n"
     ]
    },
    {
     "name": "stdout",
     "output_type": "stream",
     "text": [
      "12928/20000 [==================>...........] - ETA: 1:02:10 - loss: 1.0852 - acc: 0.37 - ETA: 47:54 - loss: 1.4314 - acc: 0.4062 - ETA: 40:35 - loss: 1.4694 - acc: 0.44 - ETA: 36:32 - loss: 1.4717 - acc: 0.47 - ETA: 34:14 - loss: 1.5010 - acc: 0.47 - ETA: 32:34 - loss: 1.4863 - acc: 0.47 - ETA: 31:22 - loss: 1.4650 - acc: 0.47 - ETA: 30:25 - loss: 1.4107 - acc: 0.47 - ETA: 29:38 - loss: 1.3468 - acc: 0.47 - ETA: 29:00 - loss: 1.2917 - acc: 0.47 - ETA: 28:32 - loss: 1.2459 - acc: 0.46 - ETA: 28:05 - loss: 1.2019 - acc: 0.47 - ETA: 27:42 - loss: 1.1723 - acc: 0.47 - ETA: 27:21 - loss: 1.1423 - acc: 0.47 - ETA: 26:59 - loss: 1.1160 - acc: 0.48 - ETA: 26:41 - loss: 1.0934 - acc: 0.48 - ETA: 26:24 - loss: 1.0701 - acc: 0.48 - ETA: 26:10 - loss: 1.0487 - acc: 0.49 - ETA: 25:56 - loss: 1.0317 - acc: 0.49 - ETA: 25:45 - loss: 1.0154 - acc: 0.50 - ETA: 25:31 - loss: 0.9995 - acc: 0.50 - ETA: 25:20 - loss: 0.9875 - acc: 0.50 - ETA: 25:09 - loss: 0.9762 - acc: 0.50 - ETA: 24:58 - loss: 0.9670 - acc: 0.49 - ETA: 24:48 - loss: 0.9564 - acc: 0.50 - ETA: 24:40 - loss: 0.9490 - acc: 0.49 - ETA: 24:30 - loss: 0.9419 - acc: 0.49 - ETA: 24:20 - loss: 0.9331 - acc: 0.49 - ETA: 24:11 - loss: 0.9254 - acc: 0.49 - ETA: 24:03 - loss: 0.9194 - acc: 0.49 - ETA: 23:56 - loss: 0.9119 - acc: 0.49 - ETA: 23:54 - loss: 0.9058 - acc: 0.49 - ETA: 23:49 - loss: 0.9011 - acc: 0.49 - ETA: 23:44 - loss: 0.8962 - acc: 0.49 - ETA: 23:36 - loss: 0.8901 - acc: 0.49 - ETA: 23:28 - loss: 0.8844 - acc: 0.49 - ETA: 23:20 - loss: 0.8804 - acc: 0.49 - ETA: 23:12 - loss: 0.8773 - acc: 0.49 - ETA: 23:04 - loss: 0.8724 - acc: 0.49 - ETA: 22:57 - loss: 0.8685 - acc: 0.49 - ETA: 22:50 - loss: 0.8640 - acc: 0.49 - ETA: 22:42 - loss: 0.8608 - acc: 0.49 - ETA: 22:35 - loss: 0.8571 - acc: 0.49 - ETA: 22:28 - loss: 0.8540 - acc: 0.49 - ETA: 22:21 - loss: 0.8519 - acc: 0.49 - ETA: 22:15 - loss: 0.8492 - acc: 0.49 - ETA: 22:08 - loss: 0.8474 - acc: 0.49 - ETA: 22:01 - loss: 0.8444 - acc: 0.49 - ETA: 21:54 - loss: 0.8409 - acc: 0.49 - ETA: 21:48 - loss: 0.8392 - acc: 0.49 - ETA: 21:42 - loss: 0.8361 - acc: 0.49 - ETA: 21:36 - loss: 0.8338 - acc: 0.49 - ETA: 21:29 - loss: 0.8308 - acc: 0.49 - ETA: 21:24 - loss: 0.8286 - acc: 0.49 - ETA: 21:19 - loss: 0.8262 - acc: 0.49 - ETA: 21:13 - loss: 0.8245 - acc: 0.49 - ETA: 21:07 - loss: 0.8221 - acc: 0.49 - ETA: 21:01 - loss: 0.8200 - acc: 0.49 - ETA: 20:55 - loss: 0.8180 - acc: 0.50 - ETA: 20:49 - loss: 0.8168 - acc: 0.49 - ETA: 20:43 - loss: 0.8153 - acc: 0.49 - ETA: 20:37 - loss: 0.8140 - acc: 0.49 - ETA: 20:31 - loss: 0.8123 - acc: 0.49 - ETA: 20:25 - loss: 0.8106 - acc: 0.49 - ETA: 20:19 - loss: 0.8090 - acc: 0.49 - ETA: 20:13 - loss: 0.8081 - acc: 0.49 - ETA: 20:07 - loss: 0.8062 - acc: 0.49 - ETA: 20:02 - loss: 0.8051 - acc: 0.49 - ETA: 19:56 - loss: 0.8046 - acc: 0.49 - ETA: 19:50 - loss: 0.8024 - acc: 0.49 - ETA: 19:45 - loss: 0.8014 - acc: 0.49 - ETA: 19:39 - loss: 0.8009 - acc: 0.49 - ETA: 19:33 - loss: 0.7996 - acc: 0.49 - ETA: 19:28 - loss: 0.7983 - acc: 0.49 - ETA: 19:22 - loss: 0.7969 - acc: 0.49 - ETA: 19:17 - loss: 0.7958 - acc: 0.49 - ETA: 19:11 - loss: 0.7942 - acc: 0.49 - ETA: 19:06 - loss: 0.7928 - acc: 0.49 - ETA: 19:00 - loss: 0.7915 - acc: 0.49 - ETA: 18:55 - loss: 0.7905 - acc: 0.49 - ETA: 18:50 - loss: 0.7895 - acc: 0.49 - ETA: 18:45 - loss: 0.7885 - acc: 0.49 - ETA: 18:39 - loss: 0.7873 - acc: 0.50 - ETA: 18:34 - loss: 0.7861 - acc: 0.50 - ETA: 18:29 - loss: 0.7850 - acc: 0.50 - ETA: 18:24 - loss: 0.7836 - acc: 0.50 - ETA: 18:18 - loss: 0.7821 - acc: 0.50 - ETA: 18:13 - loss: 0.7810 - acc: 0.50 - ETA: 18:08 - loss: 0.7795 - acc: 0.50 - ETA: 18:02 - loss: 0.7788 - acc: 0.50 - ETA: 17:57 - loss: 0.7778 - acc: 0.50 - ETA: 17:52 - loss: 0.7769 - acc: 0.50 - ETA: 17:46 - loss: 0.7759 - acc: 0.51 - ETA: 17:41 - loss: 0.7748 - acc: 0.51 - ETA: 17:36 - loss: 0.7744 - acc: 0.50 - ETA: 17:31 - loss: 0.7735 - acc: 0.51 - ETA: 17:26 - loss: 0.7724 - acc: 0.51 - ETA: 17:21 - loss: 0.7713 - acc: 0.51 - ETA: 17:15 - loss: 0.7701 - acc: 0.51 - ETA: 17:10 - loss: 0.7690 - acc: 0.51 - ETA: 17:05 - loss: 0.7683 - acc: 0.51 - ETA: 17:00 - loss: 0.7671 - acc: 0.51 - ETA: 16:55 - loss: 0.7667 - acc: 0.51 - ETA: 16:50 - loss: 0.7661 - acc: 0.51 - ETA: 16:45 - loss: 0.7656 - acc: 0.51 - ETA: 16:40 - loss: 0.7644 - acc: 0.51 - ETA: 16:34 - loss: 0.7635 - acc: 0.51 - ETA: 16:29 - loss: 0.7632 - acc: 0.51 - ETA: 16:24 - loss: 0.7628 - acc: 0.51 - ETA: 16:19 - loss: 0.7616 - acc: 0.51 - ETA: 16:14 - loss: 0.7605 - acc: 0.51 - ETA: 16:09 - loss: 0.7596 - acc: 0.52 - ETA: 16:04 - loss: 0.7593 - acc: 0.52 - ETA: 15:59 - loss: 0.7588 - acc: 0.52 - ETA: 15:54 - loss: 0.7573 - acc: 0.52 - ETA: 15:48 - loss: 0.7569 - acc: 0.52 - ETA: 15:43 - loss: 0.7558 - acc: 0.52 - ETA: 15:38 - loss: 0.7550 - acc: 0.52 - ETA: 15:33 - loss: 0.7544 - acc: 0.52 - ETA: 15:28 - loss: 0.7538 - acc: 0.52 - ETA: 15:23 - loss: 0.7532 - acc: 0.52 - ETA: 15:18 - loss: 0.7529 - acc: 0.52 - ETA: 15:13 - loss: 0.7523 - acc: 0.52 - ETA: 15:08 - loss: 0.7517 - acc: 0.52 - ETA: 15:03 - loss: 0.7514 - acc: 0.52 - ETA: 14:58 - loss: 0.7506 - acc: 0.52 - ETA: 14:53 - loss: 0.7498 - acc: 0.52 - ETA: 14:48 - loss: 0.7489 - acc: 0.52 - ETA: 14:43 - loss: 0.7475 - acc: 0.52 - ETA: 14:38 - loss: 0.7468 - acc: 0.52 - ETA: 14:33 - loss: 0.7458 - acc: 0.53 - ETA: 14:28 - loss: 0.7448 - acc: 0.53 - ETA: 14:23 - loss: 0.7439 - acc: 0.53 - ETA: 14:18 - loss: 0.7434 - acc: 0.53 - ETA: 14:13 - loss: 0.7432 - acc: 0.53 - ETA: 14:08 - loss: 0.7426 - acc: 0.53 - ETA: 14:03 - loss: 0.7420 - acc: 0.53 - ETA: 13:58 - loss: 0.7411 - acc: 0.53 - ETA: 13:53 - loss: 0.7410 - acc: 0.53 - ETA: 13:48 - loss: 0.7403 - acc: 0.53 - ETA: 13:43 - loss: 0.7401 - acc: 0.53 - ETA: 13:38 - loss: 0.7395 - acc: 0.53 - ETA: 13:33 - loss: 0.7394 - acc: 0.53 - ETA: 13:28 - loss: 0.7393 - acc: 0.53 - ETA: 13:23 - loss: 0.7388 - acc: 0.53 - ETA: 13:18 - loss: 0.7383 - acc: 0.53 - ETA: 13:13 - loss: 0.7377 - acc: 0.53 - ETA: 13:08 - loss: 0.7372 - acc: 0.53 - ETA: 13:03 - loss: 0.7367 - acc: 0.53 - ETA: 12:59 - loss: 0.7360 - acc: 0.54 - ETA: 12:54 - loss: 0.7354 - acc: 0.54 - ETA: 12:49 - loss: 0.7348 - acc: 0.54 - ETA: 12:44 - loss: 0.7345 - acc: 0.54 - ETA: 12:39 - loss: 0.7339 - acc: 0.54 - ETA: 12:34 - loss: 0.7335 - acc: 0.54 - ETA: 12:29 - loss: 0.7330 - acc: 0.54 - ETA: 12:24 - loss: 0.7325 - acc: 0.54 - ETA: 12:19 - loss: 0.7321 - acc: 0.54 - ETA: 12:14 - loss: 0.7318 - acc: 0.54 - ETA: 12:09 - loss: 0.7314 - acc: 0.54 - ETA: 12:05 - loss: 0.7306 - acc: 0.54 - ETA: 12:01 - loss: 0.7304 - acc: 0.54 - ETA: 11:56 - loss: 0.7300 - acc: 0.54 - ETA: 11:52 - loss: 0.7294 - acc: 0.54 - ETA: 11:48 - loss: 0.7285 - acc: 0.54 - ETA: 11:43 - loss: 0.7282 - acc: 0.54 - ETA: 11:39 - loss: 0.7277 - acc: 0.54 - ETA: 11:34 - loss: 0.7273 - acc: 0.54 - ETA: 11:30 - loss: 0.7269 - acc: 0.54 - ETA: 11:26 - loss: 0.7264 - acc: 0.54 - ETA: 11:21 - loss: 0.7253 - acc: 0.55 - ETA: 11:17 - loss: 0.7248 - acc: 0.55 - ETA: 11:12 - loss: 0.7242 - acc: 0.55 - ETA: 11:07 - loss: 0.7236 - acc: 0.55 - ETA: 11:03 - loss: 0.7228 - acc: 0.55 - ETA: 10:59 - loss: 0.7219 - acc: 0.55 - ETA: 10:54 - loss: 0.7217 - acc: 0.55 - ETA: 10:50 - loss: 0.7216 - acc: 0.55 - ETA: 10:46 - loss: 0.7211 - acc: 0.55 - ETA: 10:41 - loss: 0.7205 - acc: 0.55 - ETA: 10:36 - loss: 0.7199 - acc: 0.55 - ETA: 10:32 - loss: 0.7195 - acc: 0.55 - ETA: 10:27 - loss: 0.7188 - acc: 0.55 - ETA: 10:23 - loss: 0.7179 - acc: 0.55 - ETA: 10:18 - loss: 0.7173 - acc: 0.56 - ETA: 10:13 - loss: 0.7164 - acc: 0.56 - ETA: 10:09 - loss: 0.7156 - acc: 0.56 - ETA: 10:04 - loss: 0.7152 - acc: 0.56 - ETA: 10:00 - loss: 0.7141 - acc: 0.56 - ETA: 9:55 - loss: 0.7133 - acc: 0.5641 - ETA: 9:51 - loss: 0.7122 - acc: 0.565 - ETA: 13:15 - loss: 0.7119 - acc: 0.56 - ETA: 13:15 - loss: 0.7119 - acc: 0.56 - ETA: 13:13 - loss: 0.7118 - acc: 0.56 - ETA: 13:06 - loss: 0.7113 - acc: 0.56 - ETA: 12:59 - loss: 0.7105 - acc: 0.56 - ETA: 12:51 - loss: 0.7099 - acc: 0.56 - ETA: 12:45 - loss: 0.7097 - acc: 0.56 - ETA: 12:38 - loss: 0.7093 - acc: 0.56 - ETA: 12:31 - loss: 0.7087 - acc: 0.56 - ETA: 12:24 - loss: 0.7086 - acc: 0.56 - ETA: 12:17 - loss: 0.7082 - acc: 0.5620000/20000 [==============================] - ETA: 12:10 - loss: 0.7080 - acc: 0.56 - ETA: 12:02 - loss: 0.7078 - acc: 0.56 - ETA: 11:55 - loss: 0.7078 - acc: 0.56 - ETA: 11:48 - loss: 0.7073 - acc: 0.57 - ETA: 11:41 - loss: 0.7070 - acc: 0.57 - ETA: 11:34 - loss: 0.7066 - acc: 0.57 - ETA: 11:26 - loss: 0.7061 - acc: 0.57 - ETA: 11:19 - loss: 0.7059 - acc: 0.57 - ETA: 11:12 - loss: 0.7061 - acc: 0.57 - ETA: 11:05 - loss: 0.7058 - acc: 0.57 - ETA: 10:58 - loss: 0.7054 - acc: 0.57 - ETA: 10:51 - loss: 0.7049 - acc: 0.57 - ETA: 10:44 - loss: 0.7045 - acc: 0.57 - ETA: 10:37 - loss: 0.7039 - acc: 0.57 - ETA: 10:29 - loss: 0.7035 - acc: 0.57 - ETA: 10:22 - loss: 0.7028 - acc: 0.57 - ETA: 10:15 - loss: 0.7023 - acc: 0.57 - ETA: 10:07 - loss: 0.7019 - acc: 0.57 - ETA: 10:00 - loss: 0.7016 - acc: 0.57 - ETA: 9:53 - loss: 0.7010 - acc: 0.5755 - ETA: 9:45 - loss: 0.7004 - acc: 0.576 - ETA: 9:38 - loss: 0.6997 - acc: 0.576 - ETA: 9:31 - loss: 0.6991 - acc: 0.577 - ETA: 9:24 - loss: 0.6984 - acc: 0.577 - ETA: 9:16 - loss: 0.6976 - acc: 0.578 - ETA: 9:09 - loss: 0.6970 - acc: 0.579 - ETA: 9:02 - loss: 0.6966 - acc: 0.579 - ETA: 8:55 - loss: 0.6960 - acc: 0.580 - ETA: 8:48 - loss: 0.6950 - acc: 0.581 - ETA: 8:41 - loss: 0.6946 - acc: 0.582 - ETA: 8:34 - loss: 0.6943 - acc: 0.582 - ETA: 8:27 - loss: 0.6941 - acc: 0.582 - ETA: 8:20 - loss: 0.6935 - acc: 0.582 - ETA: 8:13 - loss: 0.6931 - acc: 0.583 - ETA: 8:05 - loss: 0.6928 - acc: 0.583 - ETA: 7:59 - loss: 0.6923 - acc: 0.583 - ETA: 7:52 - loss: 0.6918 - acc: 0.584 - ETA: 7:45 - loss: 0.6914 - acc: 0.584 - ETA: 7:38 - loss: 0.6909 - acc: 0.585 - ETA: 7:31 - loss: 0.6902 - acc: 0.585 - ETA: 7:24 - loss: 0.6899 - acc: 0.586 - ETA: 7:17 - loss: 0.6893 - acc: 0.586 - ETA: 7:10 - loss: 0.6887 - acc: 0.587 - ETA: 7:04 - loss: 0.6880 - acc: 0.588 - ETA: 6:57 - loss: 0.6876 - acc: 0.588 - ETA: 6:50 - loss: 0.6870 - acc: 0.589 - ETA: 6:43 - loss: 0.6862 - acc: 0.589 - ETA: 6:36 - loss: 0.6858 - acc: 0.590 - ETA: 6:30 - loss: 0.6853 - acc: 0.591 - ETA: 6:23 - loss: 0.6846 - acc: 0.591 - ETA: 6:16 - loss: 0.6841 - acc: 0.592 - ETA: 6:09 - loss: 0.6838 - acc: 0.592 - ETA: 6:03 - loss: 0.6834 - acc: 0.592 - ETA: 5:56 - loss: 0.6832 - acc: 0.593 - ETA: 5:50 - loss: 0.6825 - acc: 0.593 - ETA: 5:43 - loss: 0.6825 - acc: 0.593 - ETA: 5:36 - loss: 0.6819 - acc: 0.594 - ETA: 5:30 - loss: 0.6815 - acc: 0.594 - ETA: 5:23 - loss: 0.6810 - acc: 0.595 - ETA: 5:17 - loss: 0.6806 - acc: 0.595 - ETA: 5:10 - loss: 0.6805 - acc: 0.596 - ETA: 5:03 - loss: 0.6802 - acc: 0.596 - ETA: 4:57 - loss: 0.6797 - acc: 0.596 - ETA: 4:50 - loss: 0.6792 - acc: 0.597 - ETA: 4:44 - loss: 0.6785 - acc: 0.597 - ETA: 4:37 - loss: 0.6789 - acc: 0.597 - ETA: 4:31 - loss: 0.6787 - acc: 0.597 - ETA: 4:24 - loss: 0.6782 - acc: 0.598 - ETA: 4:18 - loss: 0.6776 - acc: 0.598 - ETA: 4:11 - loss: 0.6771 - acc: 0.598 - ETA: 4:05 - loss: 0.6770 - acc: 0.599 - ETA: 3:59 - loss: 0.6766 - acc: 0.599 - ETA: 3:52 - loss: 0.6762 - acc: 0.599 - ETA: 3:46 - loss: 0.6760 - acc: 0.599 - ETA: 3:39 - loss: 0.6759 - acc: 0.600 - ETA: 3:33 - loss: 0.6758 - acc: 0.600 - ETA: 3:27 - loss: 0.6755 - acc: 0.600 - ETA: 3:20 - loss: 0.6752 - acc: 0.600 - ETA: 3:14 - loss: 0.6747 - acc: 0.601 - ETA: 3:08 - loss: 0.6743 - acc: 0.601 - ETA: 3:01 - loss: 0.6737 - acc: 0.602 - ETA: 2:55 - loss: 0.6733 - acc: 0.602 - ETA: 2:49 - loss: 0.6728 - acc: 0.603 - ETA: 2:42 - loss: 0.6724 - acc: 0.603 - ETA: 2:36 - loss: 0.6721 - acc: 0.604 - ETA: 2:30 - loss: 0.6717 - acc: 0.604 - ETA: 2:24 - loss: 0.6712 - acc: 0.604 - ETA: 2:17 - loss: 0.6709 - acc: 0.605 - ETA: 2:11 - loss: 0.6704 - acc: 0.605 - ETA: 2:05 - loss: 0.6699 - acc: 0.605 - ETA: 1:59 - loss: 0.6692 - acc: 0.606 - ETA: 1:52 - loss: 0.6685 - acc: 0.607 - ETA: 1:46 - loss: 0.6679 - acc: 0.607 - ETA: 1:40 - loss: 0.6674 - acc: 0.608 - ETA: 1:34 - loss: 0.6669 - acc: 0.608 - ETA: 1:28 - loss: 0.6665 - acc: 0.609 - ETA: 1:22 - loss: 0.6659 - acc: 0.609 - ETA: 1:15 - loss: 0.6657 - acc: 0.609 - ETA: 1:09 - loss: 0.6649 - acc: 0.610 - ETA: 1:03 - loss: 0.6642 - acc: 0.611 - ETA: 57s - loss: 0.6637 - acc: 0.611 - ETA: 51s - loss: 0.6632 - acc: 0.61 - ETA: 45s - loss: 0.6627 - acc: 0.61 - ETA: 39s - loss: 0.6626 - acc: 0.61 - ETA: 33s - loss: 0.6624 - acc: 0.61 - ETA: 27s - loss: 0.6622 - acc: 0.61 - ETA: 21s - loss: 0.6617 - acc: 0.61 - ETA: 15s - loss: 0.6609 - acc: 0.61 - ETA: 9s - loss: 0.6603 - acc: 0.6157 - ETA: 3s - loss: 0.6600 - acc: 0.616 - 2050s 103ms/step - loss: 0.6597 - acc: 0.6164 - val_loss: 0.4962 - val_acc: 0.7628\n",
      "Epoch 2/3\n"
     ]
    },
    {
     "name": "stdout",
     "output_type": "stream",
     "text": [
      "13056/20000 [==================>...........] - ETA: 26:43 - loss: 0.5456 - acc: 0.73 - ETA: 25:26 - loss: 0.5764 - acc: 0.72 - ETA: 24:59 - loss: 0.5391 - acc: 0.72 - ETA: 24:42 - loss: 0.5464 - acc: 0.72 - ETA: 24:28 - loss: 0.5522 - acc: 0.72 - ETA: 24:18 - loss: 0.5449 - acc: 0.72 - ETA: 24:11 - loss: 0.5283 - acc: 0.75 - ETA: 24:03 - loss: 0.5223 - acc: 0.75 - ETA: 23:55 - loss: 0.5206 - acc: 0.75 - ETA: 23:50 - loss: 0.5334 - acc: 0.74 - ETA: 23:44 - loss: 0.5288 - acc: 0.74 - ETA: 23:38 - loss: 0.5264 - acc: 0.73 - ETA: 23:32 - loss: 0.5323 - acc: 0.72 - ETA: 23:26 - loss: 0.5305 - acc: 0.72 - ETA: 23:21 - loss: 0.5276 - acc: 0.73 - ETA: 23:15 - loss: 0.5279 - acc: 0.73 - ETA: 23:10 - loss: 0.5237 - acc: 0.73 - ETA: 23:04 - loss: 0.5250 - acc: 0.73 - ETA: 22:59 - loss: 0.5267 - acc: 0.73 - ETA: 22:54 - loss: 0.5267 - acc: 0.73 - ETA: 22:49 - loss: 0.5269 - acc: 0.73 - ETA: 22:45 - loss: 0.5222 - acc: 0.74 - ETA: 22:48 - loss: 0.5271 - acc: 0.73 - ETA: 22:43 - loss: 0.5266 - acc: 0.73 - ETA: 22:39 - loss: 0.5257 - acc: 0.73 - ETA: 22:34 - loss: 0.5288 - acc: 0.73 - ETA: 22:30 - loss: 0.5252 - acc: 0.73 - ETA: 22:26 - loss: 0.5261 - acc: 0.73 - ETA: 22:22 - loss: 0.5260 - acc: 0.73 - ETA: 22:16 - loss: 0.5277 - acc: 0.73 - ETA: 22:11 - loss: 0.5310 - acc: 0.73 - ETA: 22:07 - loss: 0.5277 - acc: 0.73 - ETA: 22:03 - loss: 0.5290 - acc: 0.73 - ETA: 22:00 - loss: 0.5273 - acc: 0.73 - ETA: 21:55 - loss: 0.5244 - acc: 0.73 - ETA: 21:50 - loss: 0.5243 - acc: 0.74 - ETA: 21:45 - loss: 0.5228 - acc: 0.74 - ETA: 21:40 - loss: 0.5206 - acc: 0.74 - ETA: 21:35 - loss: 0.5213 - acc: 0.74 - ETA: 21:30 - loss: 0.5204 - acc: 0.74 - ETA: 21:25 - loss: 0.5203 - acc: 0.74 - ETA: 21:20 - loss: 0.5167 - acc: 0.74 - ETA: 21:14 - loss: 0.5164 - acc: 0.74 - ETA: 21:09 - loss: 0.5144 - acc: 0.74 - ETA: 21:05 - loss: 0.5119 - acc: 0.74 - ETA: 21:00 - loss: 0.5113 - acc: 0.75 - ETA: 20:55 - loss: 0.5128 - acc: 0.75 - ETA: 20:50 - loss: 0.5136 - acc: 0.75 - ETA: 20:45 - loss: 0.5119 - acc: 0.75 - ETA: 20:40 - loss: 0.5138 - acc: 0.74 - ETA: 20:35 - loss: 0.5125 - acc: 0.74 - ETA: 20:31 - loss: 0.5110 - acc: 0.75 - ETA: 20:26 - loss: 0.5079 - acc: 0.75 - ETA: 20:21 - loss: 0.5063 - acc: 0.75 - ETA: 20:16 - loss: 0.5055 - acc: 0.75 - ETA: 20:11 - loss: 0.5040 - acc: 0.75 - ETA: 20:06 - loss: 0.5034 - acc: 0.75 - ETA: 20:02 - loss: 0.5028 - acc: 0.75 - ETA: 19:57 - loss: 0.5035 - acc: 0.75 - ETA: 19:52 - loss: 0.5035 - acc: 0.75 - ETA: 19:47 - loss: 0.5023 - acc: 0.75 - ETA: 19:42 - loss: 0.5035 - acc: 0.75 - ETA: 19:37 - loss: 0.5038 - acc: 0.75 - ETA: 19:32 - loss: 0.5018 - acc: 0.75 - ETA: 19:27 - loss: 0.5010 - acc: 0.75 - ETA: 19:22 - loss: 0.5010 - acc: 0.75 - ETA: 19:18 - loss: 0.5012 - acc: 0.75 - ETA: 19:13 - loss: 0.5013 - acc: 0.75 - ETA: 19:08 - loss: 0.5002 - acc: 0.75 - ETA: 19:04 - loss: 0.5005 - acc: 0.75 - ETA: 18:59 - loss: 0.5003 - acc: 0.75 - ETA: 18:54 - loss: 0.4996 - acc: 0.75 - ETA: 18:50 - loss: 0.5000 - acc: 0.75 - ETA: 18:45 - loss: 0.4997 - acc: 0.75 - ETA: 18:40 - loss: 0.5000 - acc: 0.75 - ETA: 18:35 - loss: 0.4990 - acc: 0.75 - ETA: 18:31 - loss: 0.4980 - acc: 0.75 - ETA: 18:26 - loss: 0.4984 - acc: 0.75 - ETA: 18:21 - loss: 0.4995 - acc: 0.75 - ETA: 18:16 - loss: 0.4991 - acc: 0.75 - ETA: 18:11 - loss: 0.4991 - acc: 0.75 - ETA: 18:07 - loss: 0.5002 - acc: 0.75 - ETA: 18:02 - loss: 0.5004 - acc: 0.75 - ETA: 17:57 - loss: 0.5015 - acc: 0.75 - ETA: 17:52 - loss: 0.5019 - acc: 0.75 - ETA: 17:47 - loss: 0.5020 - acc: 0.75 - ETA: 17:43 - loss: 0.5013 - acc: 0.75 - ETA: 17:38 - loss: 0.5005 - acc: 0.75 - ETA: 17:33 - loss: 0.5009 - acc: 0.75 - ETA: 17:28 - loss: 0.4999 - acc: 0.75 - ETA: 17:24 - loss: 0.4997 - acc: 0.75 - ETA: 17:19 - loss: 0.4990 - acc: 0.75 - ETA: 17:14 - loss: 0.5012 - acc: 0.75 - ETA: 17:09 - loss: 0.5011 - acc: 0.75 - ETA: 17:04 - loss: 0.5011 - acc: 0.75 - ETA: 16:59 - loss: 0.5021 - acc: 0.75 - ETA: 16:55 - loss: 0.5034 - acc: 0.75 - ETA: 16:50 - loss: 0.5037 - acc: 0.75 - ETA: 16:45 - loss: 0.5036 - acc: 0.75 - ETA: 16:41 - loss: 0.5036 - acc: 0.75 - ETA: 16:36 - loss: 0.5038 - acc: 0.75 - ETA: 16:31 - loss: 0.5035 - acc: 0.75 - ETA: 16:26 - loss: 0.5027 - acc: 0.75 - ETA: 16:21 - loss: 0.5028 - acc: 0.75 - ETA: 16:17 - loss: 0.5022 - acc: 0.75 - ETA: 16:12 - loss: 0.5017 - acc: 0.75 - ETA: 16:07 - loss: 0.5013 - acc: 0.75 - ETA: 16:02 - loss: 0.5003 - acc: 0.75 - ETA: 15:58 - loss: 0.5001 - acc: 0.75 - ETA: 15:53 - loss: 0.4992 - acc: 0.75 - ETA: 15:48 - loss: 0.4989 - acc: 0.75 - ETA: 15:43 - loss: 0.4986 - acc: 0.75 - ETA: 15:38 - loss: 0.4980 - acc: 0.76 - ETA: 15:34 - loss: 0.4967 - acc: 0.76 - ETA: 15:29 - loss: 0.4965 - acc: 0.76 - ETA: 15:24 - loss: 0.4968 - acc: 0.76 - ETA: 15:19 - loss: 0.4963 - acc: 0.76 - ETA: 15:15 - loss: 0.4960 - acc: 0.76 - ETA: 15:10 - loss: 0.4964 - acc: 0.76 - ETA: 15:05 - loss: 0.4960 - acc: 0.76 - ETA: 15:00 - loss: 0.4957 - acc: 0.76 - ETA: 14:56 - loss: 0.4946 - acc: 0.76 - ETA: 14:51 - loss: 0.4947 - acc: 0.76 - ETA: 14:46 - loss: 0.4954 - acc: 0.76 - ETA: 14:42 - loss: 0.4947 - acc: 0.76 - ETA: 14:37 - loss: 0.4956 - acc: 0.76 - ETA: 14:32 - loss: 0.4957 - acc: 0.76 - ETA: 14:27 - loss: 0.4960 - acc: 0.75 - ETA: 14:23 - loss: 0.4962 - acc: 0.75 - ETA: 14:19 - loss: 0.4976 - acc: 0.75 - ETA: 14:16 - loss: 0.4975 - acc: 0.75 - ETA: 14:13 - loss: 0.4974 - acc: 0.75 - ETA: 14:11 - loss: 0.4980 - acc: 0.75 - ETA: 14:06 - loss: 0.4990 - acc: 0.75 - ETA: 14:01 - loss: 0.4993 - acc: 0.75 - ETA: 13:56 - loss: 0.4996 - acc: 0.75 - ETA: 13:51 - loss: 0.4992 - acc: 0.75 - ETA: 13:46 - loss: 0.4987 - acc: 0.75 - ETA: 13:42 - loss: 0.4988 - acc: 0.75 - ETA: 13:37 - loss: 0.4980 - acc: 0.75 - ETA: 13:32 - loss: 0.4980 - acc: 0.75 - ETA: 13:27 - loss: 0.4973 - acc: 0.75 - ETA: 13:22 - loss: 0.4970 - acc: 0.75 - ETA: 13:18 - loss: 0.4974 - acc: 0.75 - ETA: 13:13 - loss: 0.4976 - acc: 0.75 - ETA: 13:08 - loss: 0.4978 - acc: 0.75 - ETA: 13:03 - loss: 0.4967 - acc: 0.75 - ETA: 12:58 - loss: 0.4962 - acc: 0.76 - ETA: 12:54 - loss: 0.4963 - acc: 0.76 - ETA: 12:49 - loss: 0.4956 - acc: 0.76 - ETA: 12:44 - loss: 0.4947 - acc: 0.76 - ETA: 12:39 - loss: 0.4955 - acc: 0.76 - ETA: 12:35 - loss: 0.4950 - acc: 0.76 - ETA: 12:30 - loss: 0.4945 - acc: 0.76 - ETA: 12:25 - loss: 0.4942 - acc: 0.76 - ETA: 12:20 - loss: 0.4941 - acc: 0.76 - ETA: 12:16 - loss: 0.4944 - acc: 0.76 - ETA: 12:11 - loss: 0.4948 - acc: 0.76 - ETA: 12:06 - loss: 0.4942 - acc: 0.76 - ETA: 12:01 - loss: 0.4943 - acc: 0.76 - ETA: 11:57 - loss: 0.4948 - acc: 0.76 - ETA: 11:52 - loss: 0.4944 - acc: 0.76 - ETA: 11:47 - loss: 0.4950 - acc: 0.76 - ETA: 11:42 - loss: 0.4947 - acc: 0.76 - ETA: 11:38 - loss: 0.4949 - acc: 0.76 - ETA: 11:33 - loss: 0.4943 - acc: 0.76 - ETA: 11:29 - loss: 0.4934 - acc: 0.76 - ETA: 11:25 - loss: 0.4927 - acc: 0.76 - ETA: 11:20 - loss: 0.4927 - acc: 0.76 - ETA: 11:15 - loss: 0.4924 - acc: 0.76 - ETA: 11:10 - loss: 0.4923 - acc: 0.76 - ETA: 11:06 - loss: 0.4916 - acc: 0.76 - ETA: 11:01 - loss: 0.4916 - acc: 0.76 - ETA: 10:56 - loss: 0.4911 - acc: 0.76 - ETA: 10:51 - loss: 0.4905 - acc: 0.76 - ETA: 10:46 - loss: 0.4904 - acc: 0.76 - ETA: 10:42 - loss: 0.4900 - acc: 0.76 - ETA: 10:37 - loss: 0.4895 - acc: 0.76 - ETA: 10:32 - loss: 0.4895 - acc: 0.76 - ETA: 10:27 - loss: 0.4890 - acc: 0.76 - ETA: 10:23 - loss: 0.4887 - acc: 0.76 - ETA: 10:18 - loss: 0.4888 - acc: 0.76 - ETA: 10:13 - loss: 0.4886 - acc: 0.76 - ETA: 10:09 - loss: 0.4882 - acc: 0.76 - ETA: 10:04 - loss: 0.4888 - acc: 0.76 - ETA: 9:59 - loss: 0.4890 - acc: 0.7658 - ETA: 9:54 - loss: 0.4885 - acc: 0.766 - ETA: 9:50 - loss: 0.4882 - acc: 0.766 - ETA: 9:45 - loss: 0.4880 - acc: 0.766 - ETA: 9:40 - loss: 0.4886 - acc: 0.766 - ETA: 9:36 - loss: 0.4887 - acc: 0.765 - ETA: 9:31 - loss: 0.4902 - acc: 0.765 - ETA: 9:26 - loss: 0.4901 - acc: 0.765 - ETA: 9:21 - loss: 0.4903 - acc: 0.765 - ETA: 9:16 - loss: 0.4905 - acc: 0.765 - ETA: 9:12 - loss: 0.4920 - acc: 0.764 - ETA: 9:07 - loss: 0.4921 - acc: 0.764 - ETA: 9:03 - loss: 0.4917 - acc: 0.764 - ETA: 8:58 - loss: 0.4918 - acc: 0.764 - ETA: 8:53 - loss: 0.4917 - acc: 0.764 - ETA: 8:49 - loss: 0.4918 - acc: 0.764 - ETA: 8:44 - loss: 0.4921 - acc: 0.764 - ETA: 8:39 - loss: 0.4924 - acc: 0.764 - ETA: 8:34 - loss: 0.4924 - acc: 0.7639"
     ]
    },
    {
     "name": "stdout",
     "output_type": "stream",
     "text": [
      "20000/20000 [==============================] - ETA: 8:29 - loss: 0.4921 - acc: 0.764 - ETA: 8:25 - loss: 0.4922 - acc: 0.764 - ETA: 8:20 - loss: 0.4920 - acc: 0.764 - ETA: 8:15 - loss: 0.4922 - acc: 0.764 - ETA: 8:10 - loss: 0.4921 - acc: 0.764 - ETA: 8:06 - loss: 0.4918 - acc: 0.764 - ETA: 8:01 - loss: 0.4910 - acc: 0.764 - ETA: 7:56 - loss: 0.4908 - acc: 0.764 - ETA: 7:52 - loss: 0.4908 - acc: 0.765 - ETA: 7:47 - loss: 0.4905 - acc: 0.765 - ETA: 7:42 - loss: 0.4899 - acc: 0.765 - ETA: 7:37 - loss: 0.4902 - acc: 0.765 - ETA: 7:32 - loss: 0.4899 - acc: 0.765 - ETA: 7:28 - loss: 0.4896 - acc: 0.765 - ETA: 7:23 - loss: 0.4892 - acc: 0.766 - ETA: 7:18 - loss: 0.4891 - acc: 0.766 - ETA: 7:13 - loss: 0.4883 - acc: 0.766 - ETA: 7:09 - loss: 0.4878 - acc: 0.766 - ETA: 7:04 - loss: 0.4885 - acc: 0.766 - ETA: 6:59 - loss: 0.4887 - acc: 0.766 - ETA: 6:54 - loss: 0.4890 - acc: 0.766 - ETA: 6:50 - loss: 0.4883 - acc: 0.766 - ETA: 6:45 - loss: 0.4880 - acc: 0.766 - ETA: 6:40 - loss: 0.4889 - acc: 0.766 - ETA: 6:35 - loss: 0.4889 - acc: 0.766 - ETA: 6:31 - loss: 0.4889 - acc: 0.766 - ETA: 6:26 - loss: 0.4890 - acc: 0.766 - ETA: 6:21 - loss: 0.4890 - acc: 0.766 - ETA: 6:16 - loss: 0.4889 - acc: 0.766 - ETA: 6:12 - loss: 0.4888 - acc: 0.766 - ETA: 6:07 - loss: 0.4889 - acc: 0.766 - ETA: 6:02 - loss: 0.4890 - acc: 0.766 - ETA: 5:57 - loss: 0.4892 - acc: 0.766 - ETA: 5:53 - loss: 0.4893 - acc: 0.766 - ETA: 5:48 - loss: 0.4893 - acc: 0.766 - ETA: 5:43 - loss: 0.4891 - acc: 0.766 - ETA: 5:38 - loss: 0.4887 - acc: 0.767 - ETA: 5:33 - loss: 0.4886 - acc: 0.767 - ETA: 5:29 - loss: 0.4886 - acc: 0.767 - ETA: 5:24 - loss: 0.4883 - acc: 0.767 - ETA: 5:19 - loss: 0.4882 - acc: 0.767 - ETA: 5:14 - loss: 0.4882 - acc: 0.767 - ETA: 5:10 - loss: 0.4882 - acc: 0.767 - ETA: 5:05 - loss: 0.4880 - acc: 0.767 - ETA: 5:00 - loss: 0.4883 - acc: 0.767 - ETA: 4:56 - loss: 0.4879 - acc: 0.767 - ETA: 4:51 - loss: 0.4882 - acc: 0.767 - ETA: 4:46 - loss: 0.4883 - acc: 0.767 - ETA: 4:41 - loss: 0.4891 - acc: 0.766 - ETA: 4:37 - loss: 0.4888 - acc: 0.766 - ETA: 4:32 - loss: 0.4888 - acc: 0.766 - ETA: 4:27 - loss: 0.4891 - acc: 0.766 - ETA: 4:22 - loss: 0.4891 - acc: 0.766 - ETA: 4:18 - loss: 0.4891 - acc: 0.766 - ETA: 4:13 - loss: 0.4889 - acc: 0.767 - ETA: 4:08 - loss: 0.4889 - acc: 0.766 - ETA: 4:04 - loss: 0.4885 - acc: 0.767 - ETA: 3:59 - loss: 0.4888 - acc: 0.767 - ETA: 3:54 - loss: 0.4892 - acc: 0.766 - ETA: 3:49 - loss: 0.4892 - acc: 0.766 - ETA: 3:45 - loss: 0.4890 - acc: 0.766 - ETA: 3:40 - loss: 0.4889 - acc: 0.766 - ETA: 3:35 - loss: 0.4891 - acc: 0.766 - ETA: 3:30 - loss: 0.4891 - acc: 0.766 - ETA: 3:26 - loss: 0.4890 - acc: 0.766 - ETA: 3:21 - loss: 0.4888 - acc: 0.766 - ETA: 3:16 - loss: 0.4886 - acc: 0.766 - ETA: 3:11 - loss: 0.4884 - acc: 0.766 - ETA: 3:07 - loss: 0.4888 - acc: 0.766 - ETA: 3:02 - loss: 0.4887 - acc: 0.766 - ETA: 2:57 - loss: 0.4886 - acc: 0.766 - ETA: 2:52 - loss: 0.4888 - acc: 0.766 - ETA: 2:48 - loss: 0.4888 - acc: 0.766 - ETA: 2:43 - loss: 0.4884 - acc: 0.767 - ETA: 2:38 - loss: 0.4883 - acc: 0.767 - ETA: 2:33 - loss: 0.4880 - acc: 0.767 - ETA: 2:29 - loss: 0.4878 - acc: 0.767 - ETA: 2:24 - loss: 0.4880 - acc: 0.767 - ETA: 2:19 - loss: 0.4880 - acc: 0.767 - ETA: 2:14 - loss: 0.4877 - acc: 0.767 - ETA: 2:10 - loss: 0.4874 - acc: 0.767 - ETA: 2:05 - loss: 0.4874 - acc: 0.767 - ETA: 2:00 - loss: 0.4876 - acc: 0.767 - ETA: 1:55 - loss: 0.4875 - acc: 0.767 - ETA: 1:51 - loss: 0.4874 - acc: 0.767 - ETA: 1:46 - loss: 0.4876 - acc: 0.767 - ETA: 1:41 - loss: 0.4877 - acc: 0.767 - ETA: 1:37 - loss: 0.4874 - acc: 0.767 - ETA: 1:32 - loss: 0.4867 - acc: 0.768 - ETA: 1:27 - loss: 0.4864 - acc: 0.768 - ETA: 1:22 - loss: 0.4863 - acc: 0.768 - ETA: 1:18 - loss: 0.4863 - acc: 0.768 - ETA: 1:13 - loss: 0.4862 - acc: 0.768 - ETA: 1:08 - loss: 0.4863 - acc: 0.768 - ETA: 1:03 - loss: 0.4862 - acc: 0.768 - ETA: 59s - loss: 0.4866 - acc: 0.768 - ETA: 54s - loss: 0.4862 - acc: 0.76 - ETA: 49s - loss: 0.4861 - acc: 0.76 - ETA: 44s - loss: 0.4859 - acc: 0.76 - ETA: 40s - loss: 0.4856 - acc: 0.76 - ETA: 35s - loss: 0.4856 - acc: 0.76 - ETA: 30s - loss: 0.4854 - acc: 0.76 - ETA: 26s - loss: 0.4857 - acc: 0.76 - ETA: 21s - loss: 0.4858 - acc: 0.76 - ETA: 16s - loss: 0.4860 - acc: 0.76 - ETA: 11s - loss: 0.4859 - acc: 0.76 - ETA: 7s - loss: 0.4860 - acc: 0.7687 - ETA: 2s - loss: 0.4857 - acc: 0.768 - 1614s 81ms/step - loss: 0.4856 - acc: 0.7689 - val_loss: 0.4591 - val_acc: 0.7860\n",
      "Epoch 3/3\n"
     ]
    },
    {
     "name": "stdout",
     "output_type": "stream",
     "text": [
      "13056/20000 [==================>...........] - ETA: 24:26 - loss: 0.3862 - acc: 0.85 - ETA: 24:14 - loss: 0.4241 - acc: 0.78 - ETA: 24:05 - loss: 0.4611 - acc: 0.75 - ETA: 23:59 - loss: 0.4320 - acc: 0.77 - ETA: 23:54 - loss: 0.4695 - acc: 0.75 - ETA: 23:48 - loss: 0.4675 - acc: 0.75 - ETA: 23:42 - loss: 0.4567 - acc: 0.77 - ETA: 23:38 - loss: 0.4514 - acc: 0.77 - ETA: 23:34 - loss: 0.4433 - acc: 0.78 - ETA: 23:29 - loss: 0.4314 - acc: 0.80 - ETA: 23:25 - loss: 0.4357 - acc: 0.79 - ETA: 23:21 - loss: 0.4363 - acc: 0.79 - ETA: 23:16 - loss: 0.4324 - acc: 0.79 - ETA: 23:12 - loss: 0.4359 - acc: 0.79 - ETA: 23:08 - loss: 0.4357 - acc: 0.79 - ETA: 23:04 - loss: 0.4359 - acc: 0.79 - ETA: 22:59 - loss: 0.4289 - acc: 0.80 - ETA: 22:54 - loss: 0.4298 - acc: 0.80 - ETA: 22:49 - loss: 0.4316 - acc: 0.80 - ETA: 22:44 - loss: 0.4307 - acc: 0.80 - ETA: 22:39 - loss: 0.4314 - acc: 0.80 - ETA: 22:35 - loss: 0.4303 - acc: 0.80 - ETA: 22:30 - loss: 0.4304 - acc: 0.80 - ETA: 22:25 - loss: 0.4243 - acc: 0.80 - ETA: 22:20 - loss: 0.4224 - acc: 0.80 - ETA: 22:16 - loss: 0.4230 - acc: 0.81 - ETA: 22:12 - loss: 0.4183 - acc: 0.81 - ETA: 22:09 - loss: 0.4162 - acc: 0.81 - ETA: 22:04 - loss: 0.4173 - acc: 0.81 - ETA: 21:59 - loss: 0.4147 - acc: 0.81 - ETA: 21:55 - loss: 0.4134 - acc: 0.81 - ETA: 21:50 - loss: 0.4137 - acc: 0.81 - ETA: 21:45 - loss: 0.4153 - acc: 0.81 - ETA: 21:41 - loss: 0.4169 - acc: 0.81 - ETA: 21:36 - loss: 0.4165 - acc: 0.81 - ETA: 21:32 - loss: 0.4172 - acc: 0.81 - ETA: 21:27 - loss: 0.4179 - acc: 0.81 - ETA: 21:22 - loss: 0.4163 - acc: 0.81 - ETA: 21:17 - loss: 0.4167 - acc: 0.81 - ETA: 21:13 - loss: 0.4172 - acc: 0.81 - ETA: 21:08 - loss: 0.4177 - acc: 0.81 - ETA: 21:04 - loss: 0.4166 - acc: 0.81 - ETA: 20:59 - loss: 0.4143 - acc: 0.81 - ETA: 20:54 - loss: 0.4131 - acc: 0.81 - ETA: 20:49 - loss: 0.4117 - acc: 0.81 - ETA: 20:45 - loss: 0.4121 - acc: 0.81 - ETA: 20:41 - loss: 0.4127 - acc: 0.81 - ETA: 20:36 - loss: 0.4151 - acc: 0.81 - ETA: 20:31 - loss: 0.4155 - acc: 0.81 - ETA: 20:27 - loss: 0.4156 - acc: 0.81 - ETA: 20:22 - loss: 0.4180 - acc: 0.81 - ETA: 20:17 - loss: 0.4192 - acc: 0.81 - ETA: 20:12 - loss: 0.4186 - acc: 0.81 - ETA: 20:08 - loss: 0.4198 - acc: 0.80 - ETA: 20:03 - loss: 0.4206 - acc: 0.80 - ETA: 19:58 - loss: 0.4207 - acc: 0.80 - ETA: 19:54 - loss: 0.4198 - acc: 0.81 - ETA: 19:49 - loss: 0.4188 - acc: 0.81 - ETA: 19:44 - loss: 0.4194 - acc: 0.81 - ETA: 19:40 - loss: 0.4193 - acc: 0.81 - ETA: 19:35 - loss: 0.4209 - acc: 0.80 - ETA: 19:30 - loss: 0.4217 - acc: 0.80 - ETA: 19:25 - loss: 0.4201 - acc: 0.81 - ETA: 19:21 - loss: 0.4207 - acc: 0.81 - ETA: 19:16 - loss: 0.4198 - acc: 0.81 - ETA: 19:11 - loss: 0.4198 - acc: 0.81 - ETA: 19:07 - loss: 0.4206 - acc: 0.81 - ETA: 19:02 - loss: 0.4199 - acc: 0.81 - ETA: 18:57 - loss: 0.4186 - acc: 0.81 - ETA: 18:52 - loss: 0.4163 - acc: 0.81 - ETA: 18:48 - loss: 0.4167 - acc: 0.81 - ETA: 18:43 - loss: 0.4164 - acc: 0.81 - ETA: 18:38 - loss: 0.4184 - acc: 0.81 - ETA: 18:34 - loss: 0.4187 - acc: 0.81 - ETA: 18:30 - loss: 0.4192 - acc: 0.81 - ETA: 18:29 - loss: 0.4179 - acc: 0.81 - ETA: 18:26 - loss: 0.4183 - acc: 0.81 - ETA: 18:25 - loss: 0.4185 - acc: 0.81 - ETA: 18:22 - loss: 0.4193 - acc: 0.81 - ETA: 18:18 - loss: 0.4184 - acc: 0.81 - ETA: 18:14 - loss: 0.4190 - acc: 0.81 - ETA: 18:09 - loss: 0.4192 - acc: 0.81 - ETA: 18:04 - loss: 0.4193 - acc: 0.81 - ETA: 17:59 - loss: 0.4190 - acc: 0.81 - ETA: 17:54 - loss: 0.4186 - acc: 0.81 - ETA: 17:49 - loss: 0.4188 - acc: 0.81 - ETA: 17:45 - loss: 0.4188 - acc: 0.81 - ETA: 17:40 - loss: 0.4191 - acc: 0.81 - ETA: 17:35 - loss: 0.4186 - acc: 0.81 - ETA: 17:30 - loss: 0.4180 - acc: 0.81 - ETA: 17:25 - loss: 0.4185 - acc: 0.81 - ETA: 17:20 - loss: 0.4183 - acc: 0.81 - ETA: 17:15 - loss: 0.4182 - acc: 0.81 - ETA: 17:11 - loss: 0.4180 - acc: 0.81 - ETA: 17:06 - loss: 0.4173 - acc: 0.81 - ETA: 17:01 - loss: 0.4176 - acc: 0.81 - ETA: 16:56 - loss: 0.4184 - acc: 0.81 - ETA: 16:52 - loss: 0.4187 - acc: 0.81 - ETA: 16:47 - loss: 0.4184 - acc: 0.81 - ETA: 16:42 - loss: 0.4191 - acc: 0.81 - ETA: 16:37 - loss: 0.4195 - acc: 0.81 - ETA: 16:32 - loss: 0.4200 - acc: 0.81 - ETA: 16:27 - loss: 0.4192 - acc: 0.81 - ETA: 16:23 - loss: 0.4199 - acc: 0.81 - ETA: 16:18 - loss: 0.4199 - acc: 0.81 - ETA: 16:13 - loss: 0.4209 - acc: 0.81 - ETA: 16:08 - loss: 0.4214 - acc: 0.81 - ETA: 16:03 - loss: 0.4211 - acc: 0.81 - ETA: 15:58 - loss: 0.4221 - acc: 0.81 - ETA: 15:53 - loss: 0.4216 - acc: 0.81 - ETA: 15:49 - loss: 0.4216 - acc: 0.81 - ETA: 15:44 - loss: 0.4212 - acc: 0.81 - ETA: 15:39 - loss: 0.4219 - acc: 0.81 - ETA: 15:35 - loss: 0.4221 - acc: 0.81 - ETA: 15:30 - loss: 0.4223 - acc: 0.81 - ETA: 15:26 - loss: 0.4226 - acc: 0.81 - ETA: 15:21 - loss: 0.4220 - acc: 0.81 - ETA: 15:16 - loss: 0.4218 - acc: 0.81 - ETA: 15:11 - loss: 0.4212 - acc: 0.81 - ETA: 15:07 - loss: 0.4219 - acc: 0.81 - ETA: 15:02 - loss: 0.4216 - acc: 0.81 - ETA: 14:57 - loss: 0.4221 - acc: 0.81 - ETA: 14:52 - loss: 0.4219 - acc: 0.81 - ETA: 14:48 - loss: 0.4224 - acc: 0.81 - ETA: 14:43 - loss: 0.4221 - acc: 0.81 - ETA: 14:38 - loss: 0.4220 - acc: 0.81 - ETA: 14:33 - loss: 0.4220 - acc: 0.81 - ETA: 14:29 - loss: 0.4215 - acc: 0.81 - ETA: 14:24 - loss: 0.4227 - acc: 0.81 - ETA: 14:19 - loss: 0.4225 - acc: 0.81 - ETA: 14:14 - loss: 0.4224 - acc: 0.81 - ETA: 14:09 - loss: 0.4232 - acc: 0.81 - ETA: 14:05 - loss: 0.4241 - acc: 0.80 - ETA: 14:00 - loss: 0.4241 - acc: 0.80 - ETA: 13:55 - loss: 0.4248 - acc: 0.80 - ETA: 13:50 - loss: 0.4250 - acc: 0.80 - ETA: 13:46 - loss: 0.4254 - acc: 0.80 - ETA: 13:41 - loss: 0.4250 - acc: 0.80 - ETA: 13:36 - loss: 0.4249 - acc: 0.80 - ETA: 13:31 - loss: 0.4255 - acc: 0.80 - ETA: 13:27 - loss: 0.4254 - acc: 0.80 - ETA: 13:22 - loss: 0.4252 - acc: 0.80 - ETA: 13:17 - loss: 0.4253 - acc: 0.80 - ETA: 13:13 - loss: 0.4256 - acc: 0.80 - ETA: 13:08 - loss: 0.4252 - acc: 0.80 - ETA: 13:03 - loss: 0.4252 - acc: 0.80 - ETA: 12:59 - loss: 0.4251 - acc: 0.80 - ETA: 12:54 - loss: 0.4244 - acc: 0.80 - ETA: 12:49 - loss: 0.4250 - acc: 0.80 - ETA: 12:44 - loss: 0.4250 - acc: 0.80 - ETA: 12:40 - loss: 0.4250 - acc: 0.80 - ETA: 12:35 - loss: 0.4250 - acc: 0.80 - ETA: 12:30 - loss: 0.4248 - acc: 0.80 - ETA: 12:26 - loss: 0.4244 - acc: 0.80 - ETA: 12:21 - loss: 0.4238 - acc: 0.80 - ETA: 12:16 - loss: 0.4235 - acc: 0.80 - ETA: 12:11 - loss: 0.4235 - acc: 0.80 - ETA: 12:07 - loss: 0.4242 - acc: 0.80 - ETA: 12:02 - loss: 0.4238 - acc: 0.80 - ETA: 11:57 - loss: 0.4238 - acc: 0.80 - ETA: 11:52 - loss: 0.4237 - acc: 0.80 - ETA: 11:48 - loss: 0.4236 - acc: 0.80 - ETA: 11:43 - loss: 0.4238 - acc: 0.80 - ETA: 11:38 - loss: 0.4247 - acc: 0.80 - ETA: 11:34 - loss: 0.4250 - acc: 0.80 - ETA: 11:29 - loss: 0.4247 - acc: 0.80 - ETA: 11:24 - loss: 0.4247 - acc: 0.80 - ETA: 11:19 - loss: 0.4245 - acc: 0.80 - ETA: 11:15 - loss: 0.4244 - acc: 0.80 - ETA: 11:10 - loss: 0.4253 - acc: 0.80 - ETA: 11:05 - loss: 0.4253 - acc: 0.80 - ETA: 11:00 - loss: 0.4251 - acc: 0.80 - ETA: 10:56 - loss: 0.4256 - acc: 0.80 - ETA: 10:51 - loss: 0.4256 - acc: 0.80 - ETA: 10:46 - loss: 0.4260 - acc: 0.80 - ETA: 10:41 - loss: 0.4266 - acc: 0.80 - ETA: 10:37 - loss: 0.4273 - acc: 0.80 - ETA: 10:32 - loss: 0.4269 - acc: 0.80 - ETA: 10:27 - loss: 0.4272 - acc: 0.80 - ETA: 10:23 - loss: 0.4268 - acc: 0.80 - ETA: 10:18 - loss: 0.4262 - acc: 0.80 - ETA: 10:13 - loss: 0.4259 - acc: 0.80 - ETA: 10:08 - loss: 0.4259 - acc: 0.80 - ETA: 10:04 - loss: 0.4263 - acc: 0.80 - ETA: 9:59 - loss: 0.4270 - acc: 0.8057 - ETA: 9:54 - loss: 0.4268 - acc: 0.805 - ETA: 9:50 - loss: 0.4277 - acc: 0.805 - ETA: 9:45 - loss: 0.4278 - acc: 0.805 - ETA: 9:40 - loss: 0.4279 - acc: 0.805 - ETA: 9:36 - loss: 0.4281 - acc: 0.804 - ETA: 9:31 - loss: 0.4284 - acc: 0.804 - ETA: 9:26 - loss: 0.4278 - acc: 0.805 - ETA: 9:21 - loss: 0.4278 - acc: 0.805 - ETA: 9:17 - loss: 0.4273 - acc: 0.805 - ETA: 9:12 - loss: 0.4269 - acc: 0.805 - ETA: 9:07 - loss: 0.4275 - acc: 0.805 - ETA: 9:03 - loss: 0.4277 - acc: 0.805 - ETA: 8:58 - loss: 0.4276 - acc: 0.804 - ETA: 8:53 - loss: 0.4274 - acc: 0.804 - ETA: 8:48 - loss: 0.4273 - acc: 0.804 - ETA: 8:44 - loss: 0.4274 - acc: 0.804 - ETA: 8:39 - loss: 0.4275 - acc: 0.804 - ETA: 8:35 - loss: 0.4274 - acc: 0.804 - ETA: 8:30 - loss: 0.4279 - acc: 0.804220000/20000 [==============================] - ETA: 8:25 - loss: 0.4280 - acc: 0.804 - ETA: 8:20 - loss: 0.4282 - acc: 0.803 - ETA: 8:16 - loss: 0.4284 - acc: 0.803 - ETA: 8:11 - loss: 0.4284 - acc: 0.804 - ETA: 8:06 - loss: 0.4279 - acc: 0.804 - ETA: 8:02 - loss: 0.4280 - acc: 0.803 - ETA: 7:57 - loss: 0.4278 - acc: 0.804 - ETA: 7:52 - loss: 0.4281 - acc: 0.803 - ETA: 7:47 - loss: 0.4275 - acc: 0.804 - ETA: 7:43 - loss: 0.4279 - acc: 0.803 - ETA: 7:38 - loss: 0.4277 - acc: 0.803 - ETA: 7:33 - loss: 0.4274 - acc: 0.803 - ETA: 7:29 - loss: 0.4275 - acc: 0.803 - ETA: 7:24 - loss: 0.4278 - acc: 0.803 - ETA: 7:19 - loss: 0.4274 - acc: 0.803 - ETA: 7:14 - loss: 0.4276 - acc: 0.803 - ETA: 7:10 - loss: 0.4274 - acc: 0.803 - ETA: 7:05 - loss: 0.4272 - acc: 0.804 - ETA: 7:00 - loss: 0.4271 - acc: 0.804 - ETA: 6:56 - loss: 0.4270 - acc: 0.804 - ETA: 6:51 - loss: 0.4267 - acc: 0.804 - ETA: 6:46 - loss: 0.4277 - acc: 0.803 - ETA: 6:41 - loss: 0.4277 - acc: 0.803 - ETA: 6:37 - loss: 0.4274 - acc: 0.804 - ETA: 6:32 - loss: 0.4274 - acc: 0.804 - ETA: 6:27 - loss: 0.4277 - acc: 0.803 - ETA: 6:23 - loss: 0.4274 - acc: 0.804 - ETA: 6:18 - loss: 0.4272 - acc: 0.804 - ETA: 6:13 - loss: 0.4272 - acc: 0.804 - ETA: 6:08 - loss: 0.4278 - acc: 0.803 - ETA: 6:04 - loss: 0.4278 - acc: 0.804 - ETA: 5:59 - loss: 0.4276 - acc: 0.804 - ETA: 5:54 - loss: 0.4280 - acc: 0.803 - ETA: 5:50 - loss: 0.4284 - acc: 0.803 - ETA: 5:45 - loss: 0.4284 - acc: 0.803 - ETA: 5:40 - loss: 0.4284 - acc: 0.803 - ETA: 5:36 - loss: 0.4286 - acc: 0.803 - ETA: 5:31 - loss: 0.4289 - acc: 0.802 - ETA: 5:26 - loss: 0.4292 - acc: 0.802 - ETA: 5:21 - loss: 0.4288 - acc: 0.802 - ETA: 5:17 - loss: 0.4288 - acc: 0.802 - ETA: 5:12 - loss: 0.4292 - acc: 0.802 - ETA: 5:07 - loss: 0.4290 - acc: 0.802 - ETA: 5:03 - loss: 0.4290 - acc: 0.802 - ETA: 4:58 - loss: 0.4291 - acc: 0.802 - ETA: 4:53 - loss: 0.4289 - acc: 0.802 - ETA: 4:49 - loss: 0.4288 - acc: 0.802 - ETA: 4:44 - loss: 0.4290 - acc: 0.802 - ETA: 4:39 - loss: 0.4287 - acc: 0.802 - ETA: 4:34 - loss: 0.4290 - acc: 0.802 - ETA: 4:30 - loss: 0.4290 - acc: 0.802 - ETA: 4:25 - loss: 0.4289 - acc: 0.802 - ETA: 4:20 - loss: 0.4288 - acc: 0.802 - ETA: 4:16 - loss: 0.4292 - acc: 0.802 - ETA: 4:11 - loss: 0.4293 - acc: 0.801 - ETA: 4:06 - loss: 0.4294 - acc: 0.801 - ETA: 4:01 - loss: 0.4291 - acc: 0.802 - ETA: 3:57 - loss: 0.4287 - acc: 0.802 - ETA: 3:52 - loss: 0.4288 - acc: 0.802 - ETA: 3:47 - loss: 0.4287 - acc: 0.802 - ETA: 3:43 - loss: 0.4287 - acc: 0.802 - ETA: 3:38 - loss: 0.4284 - acc: 0.802 - ETA: 3:33 - loss: 0.4286 - acc: 0.802 - ETA: 3:29 - loss: 0.4289 - acc: 0.802 - ETA: 3:24 - loss: 0.4287 - acc: 0.802 - ETA: 3:19 - loss: 0.4284 - acc: 0.802 - ETA: 3:15 - loss: 0.4283 - acc: 0.802 - ETA: 3:10 - loss: 0.4282 - acc: 0.802 - ETA: 3:05 - loss: 0.4279 - acc: 0.802 - ETA: 3:00 - loss: 0.4278 - acc: 0.802 - ETA: 2:56 - loss: 0.4276 - acc: 0.802 - ETA: 2:51 - loss: 0.4277 - acc: 0.802 - ETA: 2:46 - loss: 0.4275 - acc: 0.802 - ETA: 2:42 - loss: 0.4272 - acc: 0.803 - ETA: 2:37 - loss: 0.4274 - acc: 0.802 - ETA: 2:32 - loss: 0.4272 - acc: 0.803 - ETA: 2:28 - loss: 0.4271 - acc: 0.803 - ETA: 2:23 - loss: 0.4272 - acc: 0.802 - ETA: 2:18 - loss: 0.4270 - acc: 0.802 - ETA: 2:13 - loss: 0.4275 - acc: 0.802 - ETA: 2:09 - loss: 0.4275 - acc: 0.802 - ETA: 2:04 - loss: 0.4273 - acc: 0.803 - ETA: 1:59 - loss: 0.4269 - acc: 0.803 - ETA: 1:55 - loss: 0.4269 - acc: 0.803 - ETA: 1:50 - loss: 0.4269 - acc: 0.803 - ETA: 1:45 - loss: 0.4270 - acc: 0.803 - ETA: 1:41 - loss: 0.4264 - acc: 0.803 - ETA: 1:36 - loss: 0.4262 - acc: 0.803 - ETA: 1:31 - loss: 0.4264 - acc: 0.803 - ETA: 1:26 - loss: 0.4258 - acc: 0.803 - ETA: 1:22 - loss: 0.4257 - acc: 0.804 - ETA: 1:17 - loss: 0.4258 - acc: 0.804 - ETA: 1:12 - loss: 0.4255 - acc: 0.804 - ETA: 1:08 - loss: 0.4253 - acc: 0.804 - ETA: 1:03 - loss: 0.4253 - acc: 0.804 - ETA: 58s - loss: 0.4254 - acc: 0.804 - ETA: 54s - loss: 0.4261 - acc: 0.80 - ETA: 49s - loss: 0.4259 - acc: 0.80 - ETA: 44s - loss: 0.4255 - acc: 0.80 - ETA: 39s - loss: 0.4253 - acc: 0.80 - ETA: 35s - loss: 0.4250 - acc: 0.80 - ETA: 30s - loss: 0.4248 - acc: 0.80 - ETA: 25s - loss: 0.4249 - acc: 0.80 - ETA: 21s - loss: 0.4247 - acc: 0.80 - ETA: 16s - loss: 0.4246 - acc: 0.80 - ETA: 11s - loss: 0.4245 - acc: 0.80 - ETA: 7s - loss: 0.4241 - acc: 0.8051 - ETA: 2s - loss: 0.4240 - acc: 0.805 - 1604s 80ms/step - loss: 0.4238 - acc: 0.8053 - val_loss: 0.4314 - val_acc: 0.8070\n"
     ]
    }
   ],
   "source": [
    "print(\"Training model...\")\n",
    "model_info = net.fit(trainVec, trainLabel, epochs=3, callbacks=[tensorBoardCallback],\n",
    "                     validation_data = (testVec, testLabel), batch_size=64,verbose=1)"
   ]
  },
  {
   "cell_type": "code",
   "execution_count": 48,
   "metadata": {},
   "outputs": [
    {
     "data": {
      "image/png": "[encoded data removed]",
      "text/plain": [
       "<matplotlib.figure.Figure at 0x224878504a8>"
      ]
     },
     "metadata": {},
     "output_type": "display_data"
    }
   ],
   "source": [
    "def plot_model_history(model_history):\n",
    "\n",
    "    fig, axs = plt.subplots(1,2,figsize=(15,5))\n",
    "\n",
    "    # summarize history for accuracy\n",
    "    axs[0].plot(range(1,len(model_history.history['acc'])+1),model_history.history['acc'])\n",
    "    axs[0].plot(range(1,len(model_history.history['val_acc'])+1),model_history.history['val_acc'])\n",
    "    axs[0].set_title('Model Accuracy')\n",
    "    axs[0].set_ylabel('Accuracy')\n",
    "    axs[0].set_xlabel('Epoch')\n",
    "    axs[0].set_xticks(np.arange(1,len(model_history.history['acc'])+1),len(model_history.history['acc'])/10)\n",
    "    axs[0].legend(['train', 'val'], loc='best')\n",
    "    axs[0].set_ylim([0,1.0])\n",
    "\n",
    "    # summarize history for loss\n",
    "    axs[1].plot(range(1,len(model_history.history['loss'])+1),model_history.history['loss'])\n",
    "    axs[1].plot(range(1,len(model_history.history['val_loss'])+1),model_history.history['val_loss'])\n",
    "    axs[1].set_title('Model Loss')\n",
    "    axs[1].set_ylabel('Loss')\n",
    "    axs[1].set_xlabel('Epoch')\n",
    "    axs[1].set_xticks(np.arange(1,len(model_history.history['loss'])+1),len(model_history.history['loss'])/10)\n",
    "    axs[1].legend(['train', 'val'], loc='best')\n",
    "    axs[1].set_ylim([0,1.1*max(np.array(model_history.history['loss']).max(), np.array(model_history.history['val_loss']).max())])\n",
    "    \n",
    "    plt.show()\n",
    "    \n",
    "plot_model_history(model_info)"
   ]
  },
  {
   "cell_type": "markdown",
   "metadata": {},
   "source": [
    "We get a training and validation accuracy of about 80%, and a training and validation cross-entropy loss of about 43%. Doesn't seem to be overfitted, and is a good starting point for improvement."
   ]
  },
  {
   "cell_type": "code",
   "execution_count": null,
   "metadata": {},
   "outputs": [],
   "source": []
  }
 ],
 "metadata": {
  "kernelspec": {
   "display_name": "Python 3",
   "language": "python",
   "name": "python3"
  },
  "language_info": {
   "codemirror_mode": {
    "name": "ipython",
    "version": 3
   },
   "file_extension": ".py",
   "mimetype": "text/x-python",
   "name": "python",
   "nbconvert_exporter": "python",
   "pygments_lexer": "ipython3",
   "version": "3.6.4"
  }
 },
 "nbformat": 4,
 "nbformat_minor": 2
}
